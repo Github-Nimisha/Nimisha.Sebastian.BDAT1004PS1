{
 "cells": [
  {
   "cell_type": "markdown",
   "id": "6998ef6b",
   "metadata": {},
   "source": [
    "# Question 1:  What data type is each of the following (evaluate where necessary)?"
   ]
  },
  {
   "cell_type": "code",
   "execution_count": 1,
   "id": "f28d8e4a",
   "metadata": {},
   "outputs": [
    {
     "name": "stdout",
     "output_type": "stream",
     "text": [
      "<class 'int'>\n"
     ]
    }
   ],
   "source": [
    "print(type(5))"
   ]
  },
  {
   "cell_type": "code",
   "execution_count": 17,
   "id": "1862aec2",
   "metadata": {},
   "outputs": [
    {
     "data": {
      "text/plain": [
       "float"
      ]
     },
     "execution_count": 17,
     "metadata": {},
     "output_type": "execute_result"
    }
   ],
   "source": [
    "type(5.0)\n"
   ]
  },
  {
   "cell_type": "code",
   "execution_count": 3,
   "id": "1c8cac36",
   "metadata": {},
   "outputs": [
    {
     "data": {
      "text/plain": [
       "bool"
      ]
     },
     "execution_count": 3,
     "metadata": {},
     "output_type": "execute_result"
    }
   ],
   "source": [
    "type(5>1)"
   ]
  },
  {
   "cell_type": "code",
   "execution_count": 4,
   "id": "395038b2",
   "metadata": {},
   "outputs": [
    {
     "data": {
      "text/plain": [
       "str"
      ]
     },
     "execution_count": 4,
     "metadata": {},
     "output_type": "execute_result"
    }
   ],
   "source": [
    "type('5')"
   ]
  },
  {
   "cell_type": "code",
   "execution_count": 5,
   "id": "c77c40f2",
   "metadata": {},
   "outputs": [
    {
     "data": {
      "text/plain": [
       "int"
      ]
     },
     "execution_count": 5,
     "metadata": {},
     "output_type": "execute_result"
    }
   ],
   "source": [
    "type(5*2)"
   ]
  },
  {
   "cell_type": "code",
   "execution_count": 6,
   "id": "1d4b9cca",
   "metadata": {},
   "outputs": [
    {
     "data": {
      "text/plain": [
       "str"
      ]
     },
     "execution_count": 6,
     "metadata": {},
     "output_type": "execute_result"
    }
   ],
   "source": [
    "type('5'+'2')"
   ]
  },
  {
   "cell_type": "code",
   "execution_count": 7,
   "id": "d201f069",
   "metadata": {},
   "outputs": [
    {
     "data": {
      "text/plain": [
       "float"
      ]
     },
     "execution_count": 7,
     "metadata": {},
     "output_type": "execute_result"
    }
   ],
   "source": [
    "type(5/2)"
   ]
  },
  {
   "cell_type": "code",
   "execution_count": 8,
   "id": "454a3964",
   "metadata": {},
   "outputs": [
    {
     "data": {
      "text/plain": [
       "int"
      ]
     },
     "execution_count": 8,
     "metadata": {},
     "output_type": "execute_result"
    }
   ],
   "source": [
    "type(5%2)"
   ]
  },
  {
   "cell_type": "code",
   "execution_count": 9,
   "id": "76624565",
   "metadata": {},
   "outputs": [
    {
     "data": {
      "text/plain": [
       "set"
      ]
     },
     "execution_count": 9,
     "metadata": {},
     "output_type": "execute_result"
    }
   ],
   "source": [
    "type({5,2,1})"
   ]
  },
  {
   "cell_type": "code",
   "execution_count": 10,
   "id": "546aec36",
   "metadata": {},
   "outputs": [
    {
     "data": {
      "text/plain": [
       "bool"
      ]
     },
     "execution_count": 10,
     "metadata": {},
     "output_type": "execute_result"
    }
   ],
   "source": [
    "type(5==3)"
   ]
  },
  {
   "cell_type": "code",
   "execution_count": 15,
   "id": "e1b93d3c",
   "metadata": {},
   "outputs": [
    {
     "data": {
      "text/plain": [
       "float"
      ]
     },
     "execution_count": 15,
     "metadata": {},
     "output_type": "execute_result"
    }
   ],
   "source": [
    "import math\n",
    "type(math.pi)"
   ]
  },
  {
   "cell_type": "markdown",
   "id": "9dbbd497",
   "metadata": {},
   "source": [
    "# Question 2 Write (and evaluate) python expressions that answer these questions: a. How many letters are there in 'Supercalifragilisticexpialidocious'?\n"
   ]
  },
  {
   "cell_type": "code",
   "execution_count": 18,
   "id": "c9dd05b9",
   "metadata": {},
   "outputs": [
    {
     "name": "stdout",
     "output_type": "stream",
     "text": [
      "34\n"
     ]
    }
   ],
   "source": [
    "str= 'Supercalifragilisticexpialidocious'\n",
    "print(len(str))"
   ]
  },
  {
   "cell_type": "markdown",
   "id": "b7c855a8",
   "metadata": {},
   "source": [
    "# b. Does 'Supercalifragilisticexpialidocious' contain 'ice' as a substring? "
   ]
  },
  {
   "cell_type": "code",
   "execution_count": 22,
   "id": "9899fdc3",
   "metadata": {},
   "outputs": [
    {
     "data": {
      "text/plain": [
       "True"
      ]
     },
     "execution_count": 22,
     "metadata": {},
     "output_type": "execute_result"
    }
   ],
   "source": [
    "str= 'Supercalifragilisticexpialidocious'\n",
    "substring =\"ice\"\n",
    "substring in str"
   ]
  },
  {
   "cell_type": "markdown",
   "id": "e53ada20",
   "metadata": {},
   "source": [
    "# c. Which of the following words is the longest:Supercalifragilisticexpialidocious, Honorificabilitudinitatibus, orBababadalgharaghtakamminarronnkonn? "
   ]
  },
  {
   "cell_type": "code",
   "execution_count": 25,
   "id": "12cfe8c1",
   "metadata": {},
   "outputs": [
    {
     "data": {
      "text/plain": [
       "(34, 27, 34)"
      ]
     },
     "execution_count": 25,
     "metadata": {},
     "output_type": "execute_result"
    }
   ],
   "source": [
    "str1= 'Supercalifragilisticexpialidocious'\n",
    "str2= 'Honorificabilitudinitatibus'\n",
    "str3= 'Bababadalgharaghtakamminarronnkonn'\n",
    "len(str1),len(str2),len(str3)\n"
   ]
  },
  {
   "cell_type": "code",
   "execution_count": null,
   "id": "81111dff",
   "metadata": {},
   "outputs": [],
   "source": [
    "#'Supercalifragilisticexpialidocious' and 'Bababadalgharaghtakamminarronnkonn' having length 34 is the longest."
   ]
  },
  {
   "cell_type": "markdown",
   "id": "722d61f9",
   "metadata": {},
   "source": [
    "# d. Which composer comes first in the dictionary: 'Berlioz', 'Borodin', 'Brian','Bartok', 'Bellini', 'Buxtehude', 'Bernstein'. Which one comes last?\n"
   ]
  },
  {
   "cell_type": "code",
   "execution_count": 33,
   "id": "86add2ed",
   "metadata": {},
   "outputs": [
    {
     "name": "stdout",
     "output_type": "stream",
     "text": [
      "['Bartok', 'Bellini', 'Berlioz', 'Bernstein', 'Borodin', 'Brian', 'Buxtehude']\n",
      "First word in dictionary=  Bartok\n",
      "Last word in dictionary= Buxtehude\n"
     ]
    }
   ],
   "source": [
    "List1 =['Berlioz', 'Borodin', 'Brian','Bartok', 'Bellini', 'Buxtehude', 'Bernstein']\n",
    "List1.sort() \n",
    "print(List1)\n",
    "print(\"First word in dictionary= \", List1[0])\n",
    "print(\"Last word in dictionary=\", List1[-1])"
   ]
  },
  {
   "cell_type": "markdown",
   "id": "edab54fd",
   "metadata": {},
   "source": [
    "# Questian 3: Implement function triangleArea(a,b,c) that takes as input the lengths of the 3 sides of a triangle and returns the area of the triangle. By Heron's formula, the area of a triangle with side lengths a, b, and c is s(s - a)(s -b)(s -c), where s = (a+b+c)/2.  >>> triangleArea(2,2,2) 1.7320508075688772\n"
   ]
  },
  {
   "cell_type": "code",
   "execution_count": 7,
   "id": "6049712c",
   "metadata": {},
   "outputs": [],
   "source": [
    "import math\n",
    "def trianglearea(a,b,c):\n",
    "    s= (a+b+c)/2\n",
    "    area =math.sqrt(s*(s-a) * (s-b) * (s-c))\n",
    "    return area"
   ]
  },
  {
   "cell_type": "code",
   "execution_count": 8,
   "id": "de9f4948",
   "metadata": {},
   "outputs": [
    {
     "data": {
      "text/plain": [
       "1.7320508075688772"
      ]
     },
     "execution_count": 8,
     "metadata": {},
     "output_type": "execute_result"
    }
   ],
   "source": [
    "trianglearea(2,2,2)"
   ]
  },
  {
   "cell_type": "markdown",
   "id": "bf165c9c",
   "metadata": {},
   "source": [
    "# Question 4 :Write a program in python to separate odd and even integers in separate arrays."
   ]
  },
  {
   "cell_type": "code",
   "execution_count": 3,
   "id": "f7a2781d",
   "metadata": {},
   "outputs": [
    {
     "name": "stdout",
     "output_type": "stream",
     "text": [
      "Enter number of elements : 5\n",
      "element-0:25\n",
      "element-1:47\n",
      "element-2:42\n",
      "element-3:56\n",
      "element-4:32\n",
      "The Even Elements are : [42, 56, 32]\n",
      "The Odd Elements are : [25, 47]\n"
     ]
    }
   ],
   "source": [
    "elements = int(input('Enter number of elements : '))\n",
    "final_list = []\n",
    "even_number = []\n",
    "odd_number = []\n",
    "for i in range(0,elements):\n",
    "    inputs = int(input(f'element-{i}:'))\n",
    "    final_list.append(inputs)\n",
    "for i in final_list:\n",
    "    if i%2 == 0:\n",
    "        even_number.append(i)\n",
    "    else:\n",
    "        odd_number.append(i)\n",
    "        \n",
    "print('The Even Elements are :',even_number)\n",
    "print('The Odd Elements are :',odd_number)"
   ]
  },
  {
   "cell_type": "markdown",
   "id": "2c6ac2b0",
   "metadata": {},
   "source": [
    "# Question 5 : a. Write a function inside(x,y,x1,y1,x2,y2) that returns True or False depending on whether the point (x,y) lies in the rectangle with lower left corner (x1,y1) and upper right corner (x2,y2)."
   ]
  },
  {
   "cell_type": "code",
   "execution_count": 4,
   "id": "e8b2f0d1",
   "metadata": {},
   "outputs": [],
   "source": [
    "def inside(x,y,x1,y1,x2,y2):\n",
    "    if (x>x1 and y>y1 and x<x2 and y<y2):\n",
    "        return True\n",
    "    else:\n",
    "        return False"
   ]
  },
  {
   "cell_type": "code",
   "execution_count": 5,
   "id": "183051c2",
   "metadata": {},
   "outputs": [
    {
     "data": {
      "text/plain": [
       "True"
      ]
     },
     "execution_count": 5,
     "metadata": {},
     "output_type": "execute_result"
    }
   ],
   "source": [
    "inside(1,1,0,0,2,3)"
   ]
  },
  {
   "cell_type": "code",
   "execution_count": 6,
   "id": "c5e4537d",
   "metadata": {},
   "outputs": [
    {
     "data": {
      "text/plain": [
       "False"
      ]
     },
     "execution_count": 6,
     "metadata": {},
     "output_type": "execute_result"
    }
   ],
   "source": [
    "inside(-1,-1,0,0,2,3)"
   ]
  },
  {
   "cell_type": "markdown",
   "id": "caa92561",
   "metadata": {},
   "source": [
    "# b. Use function inside() from part a. to write an expression that tests whether the point (1,1) lies in both of the following rectangles: one with lower left corner (0.3, 0.5) and upper right corner (1.1, 0.7) and the other with lower left corner (0.5, 0.2) and upper right corner (1.1, 2)."
   ]
  },
  {
   "cell_type": "code",
   "execution_count": 7,
   "id": "41766abc",
   "metadata": {},
   "outputs": [
    {
     "data": {
      "text/plain": [
       "False"
      ]
     },
     "execution_count": 7,
     "metadata": {},
     "output_type": "execute_result"
    }
   ],
   "source": [
    "inside(1,1,0.3,0.5,1.1,0.7) and inside(1,1,0.5,0.2,1.1,2)"
   ]
  },
  {
   "cell_type": "markdown",
   "id": "a10d44a1",
   "metadata": {},
   "source": [
    "# Question 6 : Write a function pig() that takes a word (i.e., a string) as input and returns its pig-Latin form. \n"
   ]
  },
  {
   "cell_type": "code",
   "execution_count": 10,
   "id": "bed2f886",
   "metadata": {},
   "outputs": [],
   "source": [
    "\n",
    "def pig(enter_string):\n",
    "    vowels = ['a','e','i','o','u']\n",
    "    string = enter_string.lower()\n",
    "    \n",
    "    if string[0] in vowels:\n",
    "        print(string+'way')\n",
    "    else :\n",
    "        string = string[1:]+string[0]+'ay'\n",
    "        print(string)"
   ]
  },
  {
   "cell_type": "code",
   "execution_count": 11,
   "id": "5c672346",
   "metadata": {},
   "outputs": [
    {
     "name": "stdout",
     "output_type": "stream",
     "text": [
      "appyhay\n",
      "enterway\n"
     ]
    }
   ],
   "source": [
    "pig('happy')\n",
    "\n",
    "pig('ENTER')"
   ]
  },
  {
   "cell_type": "markdown",
   "id": "ec167138",
   "metadata": {},
   "source": [
    "# Question 7 : File bloodtype1.txt records blood-types of patients (A, B, AB, O or OO) at a clinic. Write a function bldcount() that reads the file with name name and reports (i.e., prints) how many patients there are in each bloodtype."
   ]
  },
  {
   "cell_type": "code",
   "execution_count": 12,
   "id": "cdcdb10e",
   "metadata": {},
   "outputs": [],
   "source": [
    "def bldcount(file):\n",
    "    filename = file\n",
    "    bldfile = open(f'D:\\BDAT\\Data Programming\\{filename}','r')\n",
    "    blood=bldfile.readline()\n",
    "    blood = blood.strip('\\n').strip()\n",
    "    blood= blood.split(' ')\n",
    "    \n",
    "    blood_groups = ['A','B','AB','O','OO']\n",
    "    \n",
    "    for bld_grps in blood_groups:\n",
    "        print(f'There are {blood.count(bld_grps)} patients of blood type {bld_grps}')"
   ]
  },
  {
   "cell_type": "code",
   "execution_count": 13,
   "id": "21fa6b6b",
   "metadata": {},
   "outputs": [
    {
     "name": "stdout",
     "output_type": "stream",
     "text": [
      "There are 15 patients of blood type A\n",
      "There are 1 patients of blood type B\n",
      "There are 13 patients of blood type AB\n",
      "There are 15 patients of blood type O\n",
      "There are 0 patients of blood type OO\n"
     ]
    }
   ],
   "source": [
    "bldcount('Bloodtype1.txt')"
   ]
  },
  {
   "cell_type": "markdown",
   "id": "d3d73afe",
   "metadata": {},
   "source": [
    "# Question 8 :Write a function curconv() that takes as input:1. a currency represented using a string (e.g., 'JPY' for the Japanese Yen or 'EUR' for the Euro) 2. an amountand then converts and returns the amount in US dollars."
   ]
  },
  {
   "cell_type": "code",
   "execution_count": 39,
   "id": "7ee543ec",
   "metadata": {},
   "outputs": [],
   "source": [
    "def curconv(cur,amt):\n",
    "    with open('D:\\BDAT\\Data Programming\\Currency.txt','r') as f:\n",
    "        key1=[]\n",
    "        value1=[]\n",
    "        for line in f:\n",
    "            key= line.split('\\t')[0]\n",
    "            key1.append(key)\n",
    "            value =line.split('\\t')[1]\n",
    "            value1.append(value)\n",
    "        key_value=dict(zip(key1,value1))\n",
    "        value =float(key_value.get(cur))\n",
    "        return value*amt"
   ]
  },
  {
   "cell_type": "code",
   "execution_count": 40,
   "id": "47d7da06",
   "metadata": {},
   "outputs": [
    {
     "data": {
      "text/plain": [
       "122.96544"
      ]
     },
     "execution_count": 40,
     "metadata": {},
     "output_type": "execute_result"
    }
   ],
   "source": [
    "curconv('EUR',100)"
   ]
  },
  {
   "cell_type": "code",
   "execution_count": 41,
   "id": "6b7beb0d",
   "metadata": {},
   "outputs": [
    {
     "data": {
      "text/plain": [
       "1.241401"
      ]
     },
     "execution_count": 41,
     "metadata": {},
     "output_type": "execute_result"
    }
   ],
   "source": [
    "curconv('JPY',100)"
   ]
  },
  {
   "cell_type": "markdown",
   "id": "9ae825f7",
   "metadata": {},
   "source": [
    "# Question 9 : Each of the following will cause an exception (an error). Identify what type of exception each will cause."
   ]
  },
  {
   "cell_type": "code",
   "execution_count": 23,
   "id": "04d09b5e",
   "metadata": {},
   "outputs": [
    {
     "ename": "TypeError",
     "evalue": "unsupported operand type(s) for +: 'int' and 'str'",
     "output_type": "error",
     "traceback": [
      "\u001b[1;31m---------------------------------------------------------------------------\u001b[0m",
      "\u001b[1;31mTypeError\u001b[0m                                 Traceback (most recent call last)",
      "\u001b[1;32m~\\AppData\\Local\\Temp/ipykernel_35176/3559860707.py\u001b[0m in \u001b[0;36m<module>\u001b[1;34m\u001b[0m\n\u001b[1;32m----> 1\u001b[1;33m \u001b[1;36m6\u001b[0m\u001b[1;33m+\u001b[0m\u001b[1;34m'a'\u001b[0m \u001b[1;31m#1 :(6 + 'a')  # Type error :unsupported operand type(s) for +: 'int' and 'str'\u001b[0m\u001b[1;33m\u001b[0m\u001b[1;33m\u001b[0m\u001b[0m\n\u001b[0m",
      "\u001b[1;31mTypeError\u001b[0m: unsupported operand type(s) for +: 'int' and 'str'"
     ]
    }
   ],
   "source": [
    "6+'a' #1 :(6 + 'a')  # Type error :unsupported operand type(s) for +: 'int' and 'str'"
   ]
  },
  {
   "cell_type": "code",
   "execution_count": 24,
   "id": "9eb3d590",
   "metadata": {},
   "outputs": [
    {
     "ename": "IndexError",
     "evalue": "list index out of range",
     "output_type": "error",
     "traceback": [
      "\u001b[1;31m---------------------------------------------------------------------------\u001b[0m",
      "\u001b[1;31mIndexError\u001b[0m                                Traceback (most recent call last)",
      "\u001b[1;32m~\\AppData\\Local\\Temp/ipykernel_35176/4086160814.py\u001b[0m in \u001b[0;36m<module>\u001b[1;34m\u001b[0m\n\u001b[0;32m      1\u001b[0m \u001b[0mList1\u001b[0m \u001b[1;33m=\u001b[0m\u001b[1;33m[\u001b[0m\u001b[1;36m0\u001b[0m\u001b[1;33m,\u001b[0m\u001b[1;36m1\u001b[0m\u001b[1;33m,\u001b[0m\u001b[1;36m2\u001b[0m\u001b[1;33m,\u001b[0m\u001b[1;36m3\u001b[0m\u001b[1;33m,\u001b[0m\u001b[1;36m4\u001b[0m\u001b[1;33m,\u001b[0m\u001b[1;36m5\u001b[0m\u001b[1;33m,\u001b[0m\u001b[1;36m6\u001b[0m\u001b[1;33m,\u001b[0m\u001b[1;36m7\u001b[0m\u001b[1;33m,\u001b[0m\u001b[1;36m8\u001b[0m\u001b[1;33m,\u001b[0m\u001b[1;36m9\u001b[0m\u001b[1;33m,\u001b[0m\u001b[1;36m10\u001b[0m\u001b[1;33m]\u001b[0m   \u001b[1;31m#2 :Referring to the 12th item of a list that has only 10 items  #IndexError : list index out of range\u001b[0m\u001b[1;33m\u001b[0m\u001b[1;33m\u001b[0m\u001b[0m\n\u001b[1;32m----> 2\u001b[1;33m \u001b[0mList1\u001b[0m\u001b[1;33m[\u001b[0m\u001b[1;36m12\u001b[0m\u001b[1;33m]\u001b[0m\u001b[1;33m\u001b[0m\u001b[1;33m\u001b[0m\u001b[0m\n\u001b[0m",
      "\u001b[1;31mIndexError\u001b[0m: list index out of range"
     ]
    }
   ],
   "source": [
    "List1 =[0,1,2,3,4,5,6,7,8,9,10]   #2 :Referring to the 12th item of a list that has only 10 items  #IndexError : list index out of range\n",
    "List1[12]\n"
   ]
  },
  {
   "cell_type": "code",
   "execution_count": 22,
   "id": "ab8cebe2",
   "metadata": {},
   "outputs": [
    {
     "ename": "ValueError",
     "evalue": "math domain error",
     "output_type": "error",
     "traceback": [
      "\u001b[1;31m---------------------------------------------------------------------------\u001b[0m",
      "\u001b[1;31mValueError\u001b[0m                                Traceback (most recent call last)",
      "\u001b[1;32m~\\AppData\\Local\\Temp/ipykernel_35176/1114391229.py\u001b[0m in \u001b[0;36m<module>\u001b[1;34m\u001b[0m\n\u001b[0;32m      1\u001b[0m \u001b[1;32mimport\u001b[0m \u001b[0mmath\u001b[0m\u001b[1;33m\u001b[0m\u001b[1;33m\u001b[0m\u001b[0m\n\u001b[1;32m----> 2\u001b[1;33m \u001b[0mmath\u001b[0m\u001b[1;33m.\u001b[0m\u001b[0msqrt\u001b[0m\u001b[1;33m(\u001b[0m\u001b[1;33m-\u001b[0m\u001b[1;36m1.0\u001b[0m\u001b[1;33m)\u001b[0m\u001b[1;33m\u001b[0m\u001b[1;33m\u001b[0m\u001b[0m\n\u001b[0m",
      "\u001b[1;31mValueError\u001b[0m: math domain error"
     ]
    }
   ],
   "source": [
    "import math  #3 :math.sqrt(1.0) #ValueError : math Domain Error\n",
    "math.sqrt(-1.0)"
   ]
  },
  {
   "cell_type": "code",
   "execution_count": 25,
   "id": "c612bb19",
   "metadata": {},
   "outputs": [
    {
     "ename": "NameError",
     "evalue": "name 'x' is not defined",
     "output_type": "error",
     "traceback": [
      "\u001b[1;31m---------------------------------------------------------------------------\u001b[0m",
      "\u001b[1;31mNameError\u001b[0m                                 Traceback (most recent call last)",
      "\u001b[1;32m~\\AppData\\Local\\Temp/ipykernel_35176/541212099.py\u001b[0m in \u001b[0;36m<module>\u001b[1;34m\u001b[0m\n\u001b[0;32m      1\u001b[0m \u001b[0mvar\u001b[0m \u001b[1;33m=\u001b[0m \u001b[1;34m'Nimisha'\u001b[0m\u001b[1;33m\u001b[0m\u001b[1;33m\u001b[0m\u001b[0m\n\u001b[1;32m----> 2\u001b[1;33m \u001b[0mprint\u001b[0m\u001b[1;33m(\u001b[0m\u001b[0mx\u001b[0m\u001b[1;33m)\u001b[0m\u001b[1;33m\u001b[0m\u001b[1;33m\u001b[0m\u001b[0m\n\u001b[0m",
      "\u001b[1;31mNameError\u001b[0m: name 'x' is not defined"
     ]
    }
   ],
   "source": [
    "var = 'Nimisha'  #4 :Using an undeclared variable : NameError : name 'x' is not defined\n",
    "print(x)"
   ]
  },
  {
   "cell_type": "code",
   "execution_count": 35,
   "id": "2c6c3d04",
   "metadata": {},
   "outputs": [
    {
     "ename": "FileNotFoundError",
     "evalue": "[Errno 2] No such file or directory: 'D:\\\\BDAT\\\\Data Programming\\\\Bloodtyp1545.txt'",
     "output_type": "error",
     "traceback": [
      "\u001b[1;31m---------------------------------------------------------------------------\u001b[0m",
      "\u001b[1;31mFileNotFoundError\u001b[0m                         Traceback (most recent call last)",
      "\u001b[1;32m~\\AppData\\Local\\Temp/ipykernel_35176/1196119199.py\u001b[0m in \u001b[0;36m<module>\u001b[1;34m\u001b[0m\n\u001b[1;32m----> 1\u001b[1;33m \u001b[0mfile1\u001b[0m \u001b[1;33m=\u001b[0m \u001b[0mopen\u001b[0m\u001b[1;33m(\u001b[0m\u001b[1;34m\"D:\\BDAT\\Data Programming\\Bloodtyp1545.txt\"\u001b[0m\u001b[1;33m)\u001b[0m\u001b[1;33m\u001b[0m\u001b[1;33m\u001b[0m\u001b[0m\n\u001b[0m",
      "\u001b[1;31mFileNotFoundError\u001b[0m: [Errno 2] No such file or directory: 'D:\\\\BDAT\\\\Data Programming\\\\Bloodtyp1545.txt'"
     ]
    }
   ],
   "source": [
    "file1 = open(\"D:\\BDAT\\Data Programming\\Bloodtyp1545.txt\")  #5 :Trying to open a file that does not exist : FileNotFoundError : No such file or directory"
   ]
  },
  {
   "cell_type": "markdown",
   "id": "981ed429",
   "metadata": {},
   "source": [
    "# Question10 : Write a function called frequencies() that takes a string as its only parameter, and returns a list of integers, showing the number of times each character appears in the text. Your function may ignore any characters that are not in letters."
   ]
  },
  {
   "cell_type": "code",
   "execution_count": 36,
   "id": "780d531c",
   "metadata": {},
   "outputs": [],
   "source": [
    "def frequencies(enter_word):\n",
    "    freq = []\n",
    "    string = enter_word.lower()\n",
    "    alphabets=['a','b','c','d','e','f','g','h','i','j','k','l','m','n','o','p','q','r','s','t','u','v','w','x','y','z']\n",
    "    for i in range(0,26):\n",
    "        cnt=string.count(alphabets[i])\n",
    "        freq.append(cnt)\n",
    "        \n",
    "    return freq"
   ]
  },
  {
   "cell_type": "code",
   "execution_count": 37,
   "id": "39d4e2a7",
   "metadata": {},
   "outputs": [
    {
     "data": {
      "text/plain": [
       "[1, 1, 1, 3, 5, 1, 1, 2, 1, 0, 1, 0, 1, 2, 4, 0, 1, 2, 0, 3, 1, 0, 1, 1, 0, 0]"
      ]
     },
     "execution_count": 37,
     "metadata": {},
     "output_type": "execute_result"
    }
   ],
   "source": [
    "frequencies('The quick red fox got bored and went home')"
   ]
  },
  {
   "cell_type": "code",
   "execution_count": 38,
   "id": "543149e1",
   "metadata": {},
   "outputs": [
    {
     "data": {
      "text/plain": [
       "[1, 0, 0, 0, 1, 0, 0, 0, 0, 0, 0, 1, 0, 0, 0, 2, 0, 0, 0, 0, 0, 0, 0, 0, 0, 0]"
      ]
     },
     "execution_count": 38,
     "metadata": {},
     "output_type": "execute_result"
    }
   ],
   "source": [
    "frequencies('apple')"
   ]
  }
 ],
 "metadata": {
  "kernelspec": {
   "display_name": "Python 3 (ipykernel)",
   "language": "python",
   "name": "python3"
  },
  "language_info": {
   "codemirror_mode": {
    "name": "ipython",
    "version": 3
   },
   "file_extension": ".py",
   "mimetype": "text/x-python",
   "name": "python",
   "nbconvert_exporter": "python",
   "pygments_lexer": "ipython3",
   "version": "3.9.7"
  }
 },
 "nbformat": 4,
 "nbformat_minor": 5
}
